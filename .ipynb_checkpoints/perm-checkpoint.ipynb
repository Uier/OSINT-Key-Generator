{
 "cells": [
  {
   "cell_type": "code",
   "execution_count": 164,
   "metadata": {},
   "outputs": [],
   "source": [
    "from itertools import permutations"
   ]
  },
  {
   "cell_type": "code",
   "execution_count": 165,
   "metadata": {},
   "outputs": [],
   "source": [
    "from ch2en import ch2en\n",
    "from gregorian2lunar import gregorian2lunar"
   ]
  },
  {
   "cell_type": "code",
   "execution_count": 174,
   "metadata": {},
   "outputs": [],
   "source": [
    "name = ['游照臨','喵喵']\n",
    "user_id = ['stevenyu113228']\n",
    "# email = ['stevenyu113228@gmail.com']\n",
    "birth = ['1997/11/03']\n",
    "phone = ['0978939966']\n",
    "other_list = ['aaa','rrr','ccc']"
   ]
  },
  {
   "cell_type": "code",
   "execution_count": 175,
   "metadata": {},
   "outputs": [],
   "source": [
    "# lst = [name , user_id , birth,phone]"
   ]
  },
  {
   "cell_type": "code",
   "execution_count": 176,
   "metadata": {},
   "outputs": [],
   "source": [
    "def gen_name_list(names):\n",
    "    name_list = []\n",
    "    for n in names:\n",
    "        name_list += [ch2en.zhuen(n)] # 全名\n",
    "        name_list += [ch2en.zhuen(n[1])] # 只有姓\n",
    "        name_list += [ch2en.zhuen(n[1:])] # 沒有姓\n",
    "\n",
    "        name_list += [ch2en.cangjie(n).lower()]\n",
    "        name_list += [ch2en.cangjie(n[1]).lower()]\n",
    "        name_list += [ch2en.cangjie(n[1:]).lower()]\n",
    "    return name_list\n",
    "\n",
    "name_list = gen_name_list(name)"
   ]
  },
  {
   "cell_type": "code",
   "execution_count": 177,
   "metadata": {},
   "outputs": [],
   "source": [
    "def format_num(n):\n",
    "    if n <10:\n",
    "        return [f'0{n}',f'{n}']\n",
    "    else:\n",
    "        return [f'{n}']"
   ]
  },
  {
   "cell_type": "code",
   "execution_count": 178,
   "metadata": {},
   "outputs": [],
   "source": [
    "def gen_birth(birth):\n",
    "    birth_list = []\n",
    "    lunar = []\n",
    "    for b in birth:\n",
    "        b = [int(i) for i in b.split('/')]\n",
    "        birth_list += b\n",
    "        lunar += gregorian2lunar.lunar([b[0],b[1],b[2]])[1:]\n",
    "    lst = []\n",
    "    for i in lunar + birth_list:\n",
    "        lst += format_num(i)\n",
    "    return lst\n",
    "\n",
    "birth_list = gen_birth(birth)"
   ]
  },
  {
   "cell_type": "code",
   "execution_count": 179,
   "metadata": {},
   "outputs": [],
   "source": [
    "def gen_phone(phones):\n",
    "    phone_list = []\n",
    "    for p in phones:\n",
    "        for i in range(8):\n",
    "            for j in range(2,7):\n",
    "                phone_list += [p[i:i+j]]\n",
    "    return phone_list\n",
    "\n",
    "phone_list = gen_phone(phone)"
   ]
  },
  {
   "cell_type": "code",
   "execution_count": 180,
   "metadata": {},
   "outputs": [],
   "source": [
    "def gen_id(user_ids):\n",
    "    uid_list = []\n",
    "    for uid in user_ids:\n",
    "        for i in range(len(uid)):\n",
    "                for j in range(2,len(uid)):\n",
    "                    uid_list += [uid[i:i+j]]\n",
    "    return list(set(uid_list))\n",
    "\n",
    "id_list = gen_id(user_id)"
   ]
  },
  {
   "cell_type": "code",
   "execution_count": 182,
   "metadata": {},
   "outputs": [],
   "source": [
    "all_list = [name_list,birth_list,phone_list,id_list,other_list]"
   ]
  },
  {
   "cell_type": "code",
   "execution_count": 190,
   "metadata": {},
   "outputs": [],
   "source": [
    "lst = []\n",
    "for i,j in permutations(all_list,2):\n",
    "    for k,l in permutations(i+j,2):\n",
    "        lst += [k+l]"
   ]
  },
  {
   "cell_type": "code",
   "execution_count": 194,
   "metadata": {},
   "outputs": [],
   "source": [
    "with open('aaaaa.txt','w') as f:\n",
    "    f.write(''.join(lst))\n",
    "    "
   ]
  },
  {
   "cell_type": "code",
   "execution_count": null,
   "metadata": {},
   "outputs": [],
   "source": []
  }
 ],
 "metadata": {
  "kernelspec": {
   "display_name": "Python 3",
   "language": "python",
   "name": "python3"
  },
  "language_info": {
   "codemirror_mode": {
    "name": "ipython",
    "version": 3
   },
   "file_extension": ".py",
   "mimetype": "text/x-python",
   "name": "python",
   "nbconvert_exporter": "python",
   "pygments_lexer": "ipython3",
   "version": "3.8.2"
  }
 },
 "nbformat": 4,
 "nbformat_minor": 4
}
